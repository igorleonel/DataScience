{
 "cells": [
  {
   "cell_type": "code",
   "execution_count": 1,
   "metadata": {
    "scrolled": true
   },
   "outputs": [
    {
     "name": "stdout",
     "output_type": "stream",
     "text": [
      "Collecting pandas-profiling\n",
      "  Downloading pandas_profiling-3.1.0-py2.py3-none-any.whl (261 kB)\n",
      "Requirement already satisfied, skipping upgrade: pydantic>=1.8.1 in c:\\users\\t-gamer\\anaconda3\\lib\\site-packages (from pandas-profiling) (1.9.0)\n",
      "Requirement already satisfied, skipping upgrade: numpy>=1.16.0 in c:\\users\\t-gamer\\anaconda3\\lib\\site-packages (from pandas-profiling) (1.19.2)\n",
      "Collecting joblib~=1.0.1\n",
      "  Downloading joblib-1.0.1-py3-none-any.whl (303 kB)\n",
      "Requirement already satisfied, skipping upgrade: matplotlib>=3.2.0 in c:\\users\\t-gamer\\anaconda3\\lib\\site-packages (from pandas-profiling) (3.3.2)\n",
      "Requirement already satisfied, skipping upgrade: PyYAML>=5.0.0 in c:\\users\\t-gamer\\anaconda3\\lib\\site-packages (from pandas-profiling) (5.3.1)\n",
      "Collecting missingno>=0.4.2\n",
      "  Using cached missingno-0.5.0-py3-none-any.whl (8.8 kB)\n",
      "Collecting phik>=0.11.1\n",
      "  Using cached phik-0.12.0-cp38-cp38-win_amd64.whl (659 kB)\n",
      "Requirement already satisfied, skipping upgrade: seaborn>=0.10.1 in c:\\users\\t-gamer\\anaconda3\\lib\\site-packages (from pandas-profiling) (0.11.0)\n",
      "Requirement already satisfied, skipping upgrade: jinja2>=2.11.1 in c:\\users\\t-gamer\\anaconda3\\lib\\site-packages (from pandas-profiling) (2.11.2)\n",
      "Collecting multimethod>=1.4\n",
      "  Using cached multimethod-1.7-py3-none-any.whl (9.5 kB)\n",
      "Collecting tangled-up-in-unicode==0.1.0\n",
      "  Downloading tangled_up_in_unicode-0.1.0-py3-none-any.whl (3.1 MB)\n",
      "Requirement already satisfied, skipping upgrade: pandas!=1.0.0,!=1.0.1,!=1.0.2,!=1.1.0,>=0.25.3 in c:\\users\\t-gamer\\anaconda3\\lib\\site-packages (from pandas-profiling) (1.3.1)\n",
      "Requirement already satisfied, skipping upgrade: requests>=2.24.0 in c:\\users\\t-gamer\\anaconda3\\lib\\site-packages (from pandas-profiling) (2.24.0)\n",
      "Processing c:\\users\\t-gamer\\appdata\\local\\pip\\cache\\wheels\\23\\14\\6e\\4be5bfeeb027f4939a01764b48edd5996acf574b0913fe5243\\htmlmin-0.1.12-py3-none-any.whl\n",
      "Requirement already satisfied, skipping upgrade: tqdm>=4.48.2 in c:\\users\\t-gamer\\anaconda3\\lib\\site-packages (from pandas-profiling) (4.50.2)\n",
      "Requirement already satisfied, skipping upgrade: markupsafe~=2.0.1 in c:\\users\\t-gamer\\anaconda3\\lib\\site-packages (from pandas-profiling) (2.0.1)\n",
      "Requirement already satisfied, skipping upgrade: scipy>=1.4.1 in c:\\users\\t-gamer\\anaconda3\\lib\\site-packages (from pandas-profiling) (1.5.2)\n",
      "Collecting visions[type_image_path]==0.7.4\n",
      "  Using cached visions-0.7.4-py3-none-any.whl (102 kB)\n",
      "Requirement already satisfied, skipping upgrade: typing-extensions>=3.7.4.3 in c:\\users\\t-gamer\\anaconda3\\lib\\site-packages (from pydantic>=1.8.1->pandas-profiling) (3.7.4.3)\n",
      "Requirement already satisfied, skipping upgrade: pyparsing!=2.0.4,!=2.1.2,!=2.1.6,>=2.0.3 in c:\\users\\t-gamer\\anaconda3\\lib\\site-packages (from matplotlib>=3.2.0->pandas-profiling) (2.4.7)\n",
      "Requirement already satisfied, skipping upgrade: cycler>=0.10 in c:\\users\\t-gamer\\anaconda3\\lib\\site-packages (from matplotlib>=3.2.0->pandas-profiling) (0.10.0)\n",
      "Requirement already satisfied, skipping upgrade: certifi>=2020.06.20 in c:\\users\\t-gamer\\anaconda3\\lib\\site-packages (from matplotlib>=3.2.0->pandas-profiling) (2020.6.20)\n",
      "Requirement already satisfied, skipping upgrade: kiwisolver>=1.0.1 in c:\\users\\t-gamer\\anaconda3\\lib\\site-packages (from matplotlib>=3.2.0->pandas-profiling) (1.3.0)\n",
      "Requirement already satisfied, skipping upgrade: python-dateutil>=2.1 in c:\\users\\t-gamer\\anaconda3\\lib\\site-packages (from matplotlib>=3.2.0->pandas-profiling) (2.8.1)\n",
      "Requirement already satisfied, skipping upgrade: pillow>=6.2.0 in c:\\users\\t-gamer\\anaconda3\\lib\\site-packages (from matplotlib>=3.2.0->pandas-profiling) (8.0.1)\n",
      "Requirement already satisfied, skipping upgrade: pytz>=2017.3 in c:\\users\\t-gamer\\anaconda3\\lib\\site-packages (from pandas!=1.0.0,!=1.0.1,!=1.0.2,!=1.1.0,>=0.25.3->pandas-profiling) (2020.1)\n",
      "Requirement already satisfied, skipping upgrade: urllib3!=1.25.0,!=1.25.1,<1.26,>=1.21.1 in c:\\users\\t-gamer\\anaconda3\\lib\\site-packages (from requests>=2.24.0->pandas-profiling) (1.25.11)\n",
      "Requirement already satisfied, skipping upgrade: idna<3,>=2.5 in c:\\users\\t-gamer\\anaconda3\\lib\\site-packages (from requests>=2.24.0->pandas-profiling) (2.10)\n",
      "Requirement already satisfied, skipping upgrade: chardet<4,>=3.0.2 in c:\\users\\t-gamer\\anaconda3\\lib\\site-packages (from requests>=2.24.0->pandas-profiling) (3.0.4)\n",
      "Requirement already satisfied, skipping upgrade: attrs>=19.3.0 in c:\\users\\t-gamer\\anaconda3\\lib\\site-packages (from visions[type_image_path]==0.7.4->pandas-profiling) (20.3.0)\n",
      "Requirement already satisfied, skipping upgrade: networkx>=2.4 in c:\\users\\t-gamer\\anaconda3\\lib\\site-packages (from visions[type_image_path]==0.7.4->pandas-profiling) (2.5)\n",
      "Processing c:\\users\\t-gamer\\appdata\\local\\pip\\cache\\wheels\\48\\a1\\7f\\096c1269d6bf78d4768180602579b35a1e8cb1250bb4b40c74\\imagehash-4.2.1-py2.py3-none-any.whl\n",
      "Requirement already satisfied, skipping upgrade: six in c:\\users\\t-gamer\\anaconda3\\lib\\site-packages (from cycler>=0.10->matplotlib>=3.2.0->pandas-profiling) (1.15.0)\n",
      "Requirement already satisfied, skipping upgrade: decorator>=4.3.0 in c:\\users\\t-gamer\\anaconda3\\lib\\site-packages (from networkx>=2.4->visions[type_image_path]==0.7.4->pandas-profiling) (4.4.2)\n",
      "Requirement already satisfied, skipping upgrade: PyWavelets in c:\\users\\t-gamer\\anaconda3\\lib\\site-packages (from imagehash; extra == \"type_image_path\"->visions[type_image_path]==0.7.4->pandas-profiling) (1.1.1)\n",
      "Installing collected packages: joblib, missingno, phik, multimethod, tangled-up-in-unicode, htmlmin, imagehash, visions, pandas-profiling\n",
      "  Attempting uninstall: joblib\n",
      "    Found existing installation: joblib 1.1.0\n",
      "    Uninstalling joblib-1.1.0:\n",
      "      Successfully uninstalled joblib-1.1.0\n",
      "Successfully installed htmlmin-0.1.12 imagehash-4.2.1 joblib-1.0.1 missingno-0.5.0 multimethod-1.7 pandas-profiling-3.1.0 phik-0.12.0 tangled-up-in-unicode-0.1.0 visions-0.7.4\n"
     ]
    }
   ],
   "source": [
    "!pip install -U pandas-profiling"
   ]
  },
  {
   "cell_type": "code",
   "execution_count": 1,
   "metadata": {},
   "outputs": [],
   "source": [
    "from pandas_profiling import ProfileReport\n",
    "import pandas as pd"
   ]
  },
  {
   "cell_type": "code",
   "execution_count": 5,
   "metadata": {},
   "outputs": [],
   "source": [
    "DATA_PATH = 'http://data.insideairbnb.com/spain/catalonia/barcelona/2022-01-09/visualisations/listings.csv'"
   ]
  },
  {
   "cell_type": "code",
   "execution_count": 6,
   "metadata": {
    "scrolled": true
   },
   "outputs": [
    {
     "data": {
      "text/html": [
       "<div>\n",
       "<style scoped>\n",
       "    .dataframe tbody tr th:only-of-type {\n",
       "        vertical-align: middle;\n",
       "    }\n",
       "\n",
       "    .dataframe tbody tr th {\n",
       "        vertical-align: top;\n",
       "    }\n",
       "\n",
       "    .dataframe thead th {\n",
       "        text-align: right;\n",
       "    }\n",
       "</style>\n",
       "<table border=\"1\" class=\"dataframe\">\n",
       "  <thead>\n",
       "    <tr style=\"text-align: right;\">\n",
       "      <th></th>\n",
       "      <th>id</th>\n",
       "      <th>name</th>\n",
       "      <th>host_id</th>\n",
       "      <th>host_name</th>\n",
       "      <th>neighbourhood_group</th>\n",
       "      <th>neighbourhood</th>\n",
       "      <th>latitude</th>\n",
       "      <th>longitude</th>\n",
       "      <th>room_type</th>\n",
       "      <th>price</th>\n",
       "      <th>minimum_nights</th>\n",
       "      <th>number_of_reviews</th>\n",
       "      <th>last_review</th>\n",
       "      <th>reviews_per_month</th>\n",
       "      <th>calculated_host_listings_count</th>\n",
       "      <th>availability_365</th>\n",
       "      <th>number_of_reviews_ltm</th>\n",
       "      <th>license</th>\n",
       "    </tr>\n",
       "  </thead>\n",
       "  <tbody>\n",
       "    <tr>\n",
       "      <th>0</th>\n",
       "      <td>18674</td>\n",
       "      <td>Huge flat for 8 people close to Sagrada Familia</td>\n",
       "      <td>71615</td>\n",
       "      <td>Mireia And Maria</td>\n",
       "      <td>Eixample</td>\n",
       "      <td>la Sagrada Família</td>\n",
       "      <td>41.40556</td>\n",
       "      <td>2.17262</td>\n",
       "      <td>Entire home/apt</td>\n",
       "      <td>70</td>\n",
       "      <td>1</td>\n",
       "      <td>23</td>\n",
       "      <td>2021-12-22</td>\n",
       "      <td>0.22</td>\n",
       "      <td>17</td>\n",
       "      <td>321</td>\n",
       "      <td>2</td>\n",
       "      <td>HUTB-002062</td>\n",
       "    </tr>\n",
       "    <tr>\n",
       "      <th>1</th>\n",
       "      <td>23197</td>\n",
       "      <td>Forum CCIB DeLuxe★Spacious &amp;Elegant★Large Balcony</td>\n",
       "      <td>90417</td>\n",
       "      <td>Etain (Marnie)</td>\n",
       "      <td>Sant Martí</td>\n",
       "      <td>el Besòs i el Maresme</td>\n",
       "      <td>41.41291</td>\n",
       "      <td>2.22063</td>\n",
       "      <td>Entire home/apt</td>\n",
       "      <td>220</td>\n",
       "      <td>3</td>\n",
       "      <td>53</td>\n",
       "      <td>2021-10-27</td>\n",
       "      <td>0.40</td>\n",
       "      <td>2</td>\n",
       "      <td>261</td>\n",
       "      <td>1</td>\n",
       "      <td>HUTB-005057</td>\n",
       "    </tr>\n",
       "    <tr>\n",
       "      <th>2</th>\n",
       "      <td>32711</td>\n",
       "      <td>Sagrada Familia area - Còrsega 1</td>\n",
       "      <td>135703</td>\n",
       "      <td>Nick</td>\n",
       "      <td>Gràcia</td>\n",
       "      <td>el Camp d'en Grassot i Gràcia Nova</td>\n",
       "      <td>41.40566</td>\n",
       "      <td>2.17015</td>\n",
       "      <td>Entire home/apt</td>\n",
       "      <td>144</td>\n",
       "      <td>2</td>\n",
       "      <td>63</td>\n",
       "      <td>2020-02-22</td>\n",
       "      <td>0.49</td>\n",
       "      <td>3</td>\n",
       "      <td>7</td>\n",
       "      <td>0</td>\n",
       "      <td>HUTB-001722</td>\n",
       "    </tr>\n",
       "    <tr>\n",
       "      <th>3</th>\n",
       "      <td>34981</td>\n",
       "      <td>VIDRE HOME PLAZA REAL on LAS RAMBLAS</td>\n",
       "      <td>73163</td>\n",
       "      <td>Andres</td>\n",
       "      <td>Ciutat Vella</td>\n",
       "      <td>el Barri Gòtic</td>\n",
       "      <td>41.37978</td>\n",
       "      <td>2.17623</td>\n",
       "      <td>Entire home/apt</td>\n",
       "      <td>163</td>\n",
       "      <td>5</td>\n",
       "      <td>161</td>\n",
       "      <td>2021-12-20</td>\n",
       "      <td>1.17</td>\n",
       "      <td>2</td>\n",
       "      <td>161</td>\n",
       "      <td>12</td>\n",
       "      <td>HUTB-001506</td>\n",
       "    </tr>\n",
       "    <tr>\n",
       "      <th>4</th>\n",
       "      <td>35318</td>\n",
       "      <td>Luxury room with private bathroom and balcony</td>\n",
       "      <td>152070</td>\n",
       "      <td>Michel</td>\n",
       "      <td>Ciutat Vella</td>\n",
       "      <td>el Barri Gòtic</td>\n",
       "      <td>41.38170</td>\n",
       "      <td>2.17730</td>\n",
       "      <td>Private room</td>\n",
       "      <td>65</td>\n",
       "      <td>3</td>\n",
       "      <td>244</td>\n",
       "      <td>2022-01-06</td>\n",
       "      <td>1.89</td>\n",
       "      <td>1</td>\n",
       "      <td>54</td>\n",
       "      <td>2</td>\n",
       "      <td>NaN</td>\n",
       "    </tr>\n",
       "  </tbody>\n",
       "</table>\n",
       "</div>"
      ],
      "text/plain": [
       "      id                                               name  host_id  \\\n",
       "0  18674    Huge flat for 8 people close to Sagrada Familia    71615   \n",
       "1  23197  Forum CCIB DeLuxe★Spacious &Elegant★Large Balcony    90417   \n",
       "2  32711                   Sagrada Familia area - Còrsega 1   135703   \n",
       "3  34981               VIDRE HOME PLAZA REAL on LAS RAMBLAS    73163   \n",
       "4  35318      Luxury room with private bathroom and balcony   152070   \n",
       "\n",
       "          host_name neighbourhood_group                       neighbourhood  \\\n",
       "0  Mireia And Maria            Eixample                  la Sagrada Família   \n",
       "1    Etain (Marnie)          Sant Martí               el Besòs i el Maresme   \n",
       "2              Nick              Gràcia  el Camp d'en Grassot i Gràcia Nova   \n",
       "3            Andres        Ciutat Vella                      el Barri Gòtic   \n",
       "4            Michel        Ciutat Vella                      el Barri Gòtic   \n",
       "\n",
       "   latitude  longitude        room_type  price  minimum_nights  \\\n",
       "0  41.40556    2.17262  Entire home/apt     70               1   \n",
       "1  41.41291    2.22063  Entire home/apt    220               3   \n",
       "2  41.40566    2.17015  Entire home/apt    144               2   \n",
       "3  41.37978    2.17623  Entire home/apt    163               5   \n",
       "4  41.38170    2.17730     Private room     65               3   \n",
       "\n",
       "   number_of_reviews last_review  reviews_per_month  \\\n",
       "0                 23  2021-12-22               0.22   \n",
       "1                 53  2021-10-27               0.40   \n",
       "2                 63  2020-02-22               0.49   \n",
       "3                161  2021-12-20               1.17   \n",
       "4                244  2022-01-06               1.89   \n",
       "\n",
       "   calculated_host_listings_count  availability_365  number_of_reviews_ltm  \\\n",
       "0                              17               321                      2   \n",
       "1                               2               261                      1   \n",
       "2                               3                 7                      0   \n",
       "3                               2               161                     12   \n",
       "4                               1                54                      2   \n",
       "\n",
       "       license  \n",
       "0  HUTB-002062  \n",
       "1  HUTB-005057  \n",
       "2  HUTB-001722  \n",
       "3  HUTB-001506  \n",
       "4          NaN  "
      ]
     },
     "execution_count": 6,
     "metadata": {},
     "output_type": "execute_result"
    }
   ],
   "source": [
    "df = pd.read_csv(DATA_PATH)\n",
    "df.head()"
   ]
  },
  {
   "cell_type": "code",
   "execution_count": 9,
   "metadata": {},
   "outputs": [],
   "source": [
    "report = ProfileReport(df, title='Barcelona Airbnb', explorative=True, html={'style': {'full_width': True}})"
   ]
  },
  {
   "cell_type": "code",
   "execution_count": 11,
   "metadata": {},
   "outputs": [
    {
     "data": {
      "application/vnd.jupyter.widget-view+json": {
       "model_id": "a9649ece3dd34d3396ae196253b5bed3",
       "version_major": 2,
       "version_minor": 0
      },
      "text/plain": [
       "HBox(children=(HTML(value='Export report to file'), FloatProgress(value=0.0, max=1.0), HTML(value='')))"
      ]
     },
     "metadata": {},
     "output_type": "display_data"
    },
    {
     "name": "stdout",
     "output_type": "stream",
     "text": [
      "\n"
     ]
    }
   ],
   "source": [
    "report.to_file('BarcelonaAirbnb.html')"
   ]
  },
  {
   "cell_type": "code",
   "execution_count": 12,
   "metadata": {},
   "outputs": [
    {
     "name": "stderr",
     "output_type": "stream",
     "text": [
      "C:\\Users\\T-Gamer\\anaconda3\\lib\\site-packages\\pandas_profiling\\profile_report.py:262: UserWarning: Extension .ipynb not supported. For now we assume .html was intended. To remove this warning, please use .html or .json.\n",
      "  warnings.warn(\n"
     ]
    },
    {
     "data": {
      "application/vnd.jupyter.widget-view+json": {
       "model_id": "8f3598f0cdf94375bd1b8c79c1193c56",
       "version_major": 2,
       "version_minor": 0
      },
      "text/plain": [
       "HBox(children=(HTML(value='Export report to file'), FloatProgress(value=0.0, max=1.0), HTML(value='')))"
      ]
     },
     "metadata": {},
     "output_type": "display_data"
    },
    {
     "name": "stdout",
     "output_type": "stream",
     "text": [
      "\n"
     ]
    }
   ],
   "source": [
    "report.to_file('BarcelonaAirbnb.ipynb')"
   ]
  },
  {
   "cell_type": "code",
   "execution_count": null,
   "metadata": {},
   "outputs": [],
   "source": []
  }
 ],
 "metadata": {
  "kernelspec": {
   "display_name": "Python 3",
   "language": "python",
   "name": "python3"
  },
  "language_info": {
   "codemirror_mode": {
    "name": "ipython",
    "version": 3
   },
   "file_extension": ".py",
   "mimetype": "text/x-python",
   "name": "python",
   "nbconvert_exporter": "python",
   "pygments_lexer": "ipython3",
   "version": "3.8.5"
  }
 },
 "nbformat": 4,
 "nbformat_minor": 4
}
